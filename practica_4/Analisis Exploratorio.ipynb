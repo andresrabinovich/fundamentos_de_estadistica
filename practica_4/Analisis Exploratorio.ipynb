{
 "cells": [
  {
   "cell_type": "markdown",
   "metadata": {},
   "source": [
    "El RMS Titanic fue en su momento el mayor barco de pasajeros del mundo, hundi ́endose en su viaje\n",
    "inaugural de Southampton a Nueva York en el a ̃no 1912. En el evento fallecieron 1514 de las 2223\n",
    "personas que iban a bordo, entre tripulaci ́on y pasajeros.\n",
    "En  el  presente  pr ́actico  se  trabajar ́a  con  el  conjunto  de  datos  titanic,  que  figura  en  el  data.frame\n",
    "titanic.txt. El conjunto de datos es un cl ́asicos de las competencias de ”Machine Learning“, donde se\n",
    "busca determinar un mecanismo de clasificaci ́on que, en funci ́on de diversos variables de cada pasajero,\n",
    "prediga si el pasajero sobrevivi ́o o no a la cat ́astrofe. Las variables del conjunto de datos son:\n",
    "survival: supervivencia (0 No, 1 S ́ı).\n",
    "pclass: clase del pasajero (1,2 o 3).\n",
    "sex: sexo del pasajero (”male“, ”female“).\n",
    "age: edad del pasajero.\n",
    "sibsp: cantidad de hermanos y c ́onyuges (totalizado) embarcados (n ́umero entero).\n",
    "parch: cantidad de padres e hijos (totalizado) embarcados (n ́umero entero).\n",
    "ticket: c ́odigo del boleto (texto).\n",
    "fare: tarifa del pasaje (n ́umero real).\n",
    "embarked: puerto de embarque (S= Southampton, Q=Queenstown, C = Cherbourg)\n",
    "Los datos contienen 1028 pasajeros y algunas variables contienen respuestas faltantes."
   ]
  },
  {
   "cell_type": "markdown",
   "metadata": {},
   "source": [
    "1)  Borrar todos los objetos existentes en el entorno de trabajo y establecer directorio de trabajo.\n",
    "2)  Leer  el  conjunto  de  titanic.txt  teniendo  en  cuenta  que  en  la  primera  l ́ınea  del  archivo  figura\n",
    "el nombre de las variables y los datos se encuentran separados por tabulaciones (sep=“\n",
    "\\\n",
    "t”), y\n",
    "as ́ıgnelo al data.frame titanic.\n",
    "3)  Inspeccionar los primeros casos del archivo y los  ́ultimos.\n",
    "4)  Abrir con el editor al data.frame e inspeccionar el archivo."
   ]
  },
  {
   "cell_type": "code",
   "execution_count": 58,
   "metadata": {},
   "outputs": [
    {
     "name": "stdout",
     "output_type": "stream",
     "text": [
      "'data.frame':\t1309 obs. of  9 variables:\n",
      " $ pclass  : int  1 1 1 1 1 1 1 1 1 1 ...\n",
      " $ survived: int  1 1 0 0 0 1 1 0 1 0 ...\n",
      " $ sex     : chr  \"female\" \"male\" \"female\" \"male\" ...\n",
      " $ age     : num  29 0.917 2 30 25 ...\n",
      " $ sibsp   : int  0 1 1 1 1 0 1 0 2 0 ...\n",
      " $ parch   : int  0 2 2 2 2 0 0 0 0 0 ...\n",
      " $ ticket  : chr  \"24160\" \"113781\" \"113781\" \"113781\" ...\n",
      " $ fare    : num  211 152 152 152 152 ...\n",
      " $ embarked: chr  \"S\" \"S\" \"S\" \"S\" ...\n"
     ]
    },
    {
     "data": {
      "text/html": [
       "<table>\n",
       "<thead><tr><th scope=col>pclass</th><th scope=col>survived</th><th scope=col>sex</th><th scope=col>age</th><th scope=col>sibsp</th><th scope=col>parch</th><th scope=col>ticket</th><th scope=col>fare</th><th scope=col>embarked</th></tr></thead>\n",
       "<tbody>\n",
       "\t<tr><td>1       </td><td>1       </td><td>female  </td><td>29.0000 </td><td>0       </td><td>0       </td><td>24160   </td><td>211.3375</td><td>S       </td></tr>\n",
       "\t<tr><td>1       </td><td>1       </td><td>male    </td><td> 0.9167 </td><td>1       </td><td>2       </td><td>113781  </td><td>151.5500</td><td>S       </td></tr>\n",
       "\t<tr><td>1       </td><td>0       </td><td>female  </td><td> 2.0000 </td><td>1       </td><td>2       </td><td>113781  </td><td>151.5500</td><td>S       </td></tr>\n",
       "\t<tr><td>1       </td><td>0       </td><td>male    </td><td>30.0000 </td><td>1       </td><td>2       </td><td>113781  </td><td>151.5500</td><td>S       </td></tr>\n",
       "\t<tr><td>1       </td><td>0       </td><td>female  </td><td>25.0000 </td><td>1       </td><td>2       </td><td>113781  </td><td>151.5500</td><td>S       </td></tr>\n",
       "\t<tr><td>1       </td><td>1       </td><td>male    </td><td>48.0000 </td><td>0       </td><td>0       </td><td>19952   </td><td> 26.5500</td><td>S       </td></tr>\n",
       "</tbody>\n",
       "</table>\n"
      ],
      "text/latex": [
       "\\begin{tabular}{r|lllllllll}\n",
       " pclass & survived & sex & age & sibsp & parch & ticket & fare & embarked\\\\\n",
       "\\hline\n",
       "\t 1        & 1        & female   & 29.0000  & 0        & 0        & 24160    & 211.3375 & S       \\\\\n",
       "\t 1        & 1        & male     &  0.9167  & 1        & 2        & 113781   & 151.5500 & S       \\\\\n",
       "\t 1        & 0        & female   &  2.0000  & 1        & 2        & 113781   & 151.5500 & S       \\\\\n",
       "\t 1        & 0        & male     & 30.0000  & 1        & 2        & 113781   & 151.5500 & S       \\\\\n",
       "\t 1        & 0        & female   & 25.0000  & 1        & 2        & 113781   & 151.5500 & S       \\\\\n",
       "\t 1        & 1        & male     & 48.0000  & 0        & 0        & 19952    &  26.5500 & S       \\\\\n",
       "\\end{tabular}\n"
      ],
      "text/markdown": [
       "\n",
       "pclass | survived | sex | age | sibsp | parch | ticket | fare | embarked | \n",
       "|---|---|---|---|---|---|\n",
       "| 1        | 1        | female   | 29.0000  | 0        | 0        | 24160    | 211.3375 | S        | \n",
       "| 1        | 1        | male     |  0.9167  | 1        | 2        | 113781   | 151.5500 | S        | \n",
       "| 1        | 0        | female   |  2.0000  | 1        | 2        | 113781   | 151.5500 | S        | \n",
       "| 1        | 0        | male     | 30.0000  | 1        | 2        | 113781   | 151.5500 | S        | \n",
       "| 1        | 0        | female   | 25.0000  | 1        | 2        | 113781   | 151.5500 | S        | \n",
       "| 1        | 1        | male     | 48.0000  | 0        | 0        | 19952    |  26.5500 | S        | \n",
       "\n",
       "\n"
      ],
      "text/plain": [
       "  pclass survived sex    age     sibsp parch ticket fare     embarked\n",
       "1 1      1        female 29.0000 0     0     24160  211.3375 S       \n",
       "2 1      1        male    0.9167 1     2     113781 151.5500 S       \n",
       "3 1      0        female  2.0000 1     2     113781 151.5500 S       \n",
       "4 1      0        male   30.0000 1     2     113781 151.5500 S       \n",
       "5 1      0        female 25.0000 1     2     113781 151.5500 S       \n",
       "6 1      1        male   48.0000 0     0     19952   26.5500 S       "
      ]
     },
     "metadata": {},
     "output_type": "display_data"
    },
    {
     "data": {
      "text/html": [
       "<table>\n",
       "<thead><tr><th></th><th scope=col>pclass</th><th scope=col>survived</th><th scope=col>sex</th><th scope=col>age</th><th scope=col>sibsp</th><th scope=col>parch</th><th scope=col>ticket</th><th scope=col>fare</th><th scope=col>embarked</th></tr></thead>\n",
       "<tbody>\n",
       "\t<tr><th scope=row>1304</th><td>3      </td><td>0      </td><td>male   </td><td>  NA   </td><td>0      </td><td>0      </td><td>2627   </td><td>14.4583</td><td>C      </td></tr>\n",
       "\t<tr><th scope=row>1305</th><td>3      </td><td>0      </td><td>female </td><td>14.5   </td><td>1      </td><td>0      </td><td>2665   </td><td>14.4542</td><td>C      </td></tr>\n",
       "\t<tr><th scope=row>1306</th><td>3      </td><td>0      </td><td>female </td><td>  NA   </td><td>1      </td><td>0      </td><td>2665   </td><td>14.4542</td><td>C      </td></tr>\n",
       "\t<tr><th scope=row>1307</th><td>3      </td><td>0      </td><td>male   </td><td>26.5   </td><td>0      </td><td>0      </td><td>2656   </td><td> 7.2250</td><td>C      </td></tr>\n",
       "\t<tr><th scope=row>1308</th><td>3      </td><td>0      </td><td>male   </td><td>27.0   </td><td>0      </td><td>0      </td><td>2670   </td><td> 7.2250</td><td>C      </td></tr>\n",
       "\t<tr><th scope=row>1309</th><td>3      </td><td>0      </td><td>male   </td><td>29.0   </td><td>0      </td><td>0      </td><td>315082 </td><td> 7.8750</td><td>S      </td></tr>\n",
       "</tbody>\n",
       "</table>\n"
      ],
      "text/latex": [
       "\\begin{tabular}{r|lllllllll}\n",
       "  & pclass & survived & sex & age & sibsp & parch & ticket & fare & embarked\\\\\n",
       "\\hline\n",
       "\t1304 & 3       & 0       & male    &   NA    & 0       & 0       & 2627    & 14.4583 & C      \\\\\n",
       "\t1305 & 3       & 0       & female  & 14.5    & 1       & 0       & 2665    & 14.4542 & C      \\\\\n",
       "\t1306 & 3       & 0       & female  &   NA    & 1       & 0       & 2665    & 14.4542 & C      \\\\\n",
       "\t1307 & 3       & 0       & male    & 26.5    & 0       & 0       & 2656    &  7.2250 & C      \\\\\n",
       "\t1308 & 3       & 0       & male    & 27.0    & 0       & 0       & 2670    &  7.2250 & C      \\\\\n",
       "\t1309 & 3       & 0       & male    & 29.0    & 0       & 0       & 315082  &  7.8750 & S      \\\\\n",
       "\\end{tabular}\n"
      ],
      "text/markdown": [
       "\n",
       "| <!--/--> | pclass | survived | sex | age | sibsp | parch | ticket | fare | embarked | \n",
       "|---|---|---|---|---|---|\n",
       "| 1304 | 3       | 0       | male    |   NA    | 0       | 0       | 2627    | 14.4583 | C       | \n",
       "| 1305 | 3       | 0       | female  | 14.5    | 1       | 0       | 2665    | 14.4542 | C       | \n",
       "| 1306 | 3       | 0       | female  |   NA    | 1       | 0       | 2665    | 14.4542 | C       | \n",
       "| 1307 | 3       | 0       | male    | 26.5    | 0       | 0       | 2656    |  7.2250 | C       | \n",
       "| 1308 | 3       | 0       | male    | 27.0    | 0       | 0       | 2670    |  7.2250 | C       | \n",
       "| 1309 | 3       | 0       | male    | 29.0    | 0       | 0       | 315082  |  7.8750 | S       | \n",
       "\n",
       "\n"
      ],
      "text/plain": [
       "     pclass survived sex    age  sibsp parch ticket fare    embarked\n",
       "1304 3      0        male     NA 0     0     2627   14.4583 C       \n",
       "1305 3      0        female 14.5 1     0     2665   14.4542 C       \n",
       "1306 3      0        female   NA 1     0     2665   14.4542 C       \n",
       "1307 3      0        male   26.5 0     0     2656    7.2250 C       \n",
       "1308 3      0        male   27.0 0     0     2670    7.2250 C       \n",
       "1309 3      0        male   29.0 0     0     315082  7.8750 S       "
      ]
     },
     "metadata": {},
     "output_type": "display_data"
    }
   ],
   "source": [
    "titanic <- read.table(\"titanic.txt\", sep = \"\\t\", header = T, as.is = T, dec = \",\")\n",
    "str(titanic)\n",
    "#titanic$fare <- as.numeric(gsub(\",\", \".\", as.character(titanic$fare)))\n",
    "head(titanic)\n",
    "tail(titanic)\n",
    "fix(titanic)\n"
   ]
  },
  {
   "cell_type": "markdown",
   "metadata": {},
   "source": [
    "5) Establecer el n ́umero de variables y de casos."
   ]
  },
  {
   "cell_type": "code",
   "execution_count": 57,
   "metadata": {},
   "outputs": [
    {
     "data": {
      "text/html": [
       "<ol class=list-inline>\n",
       "\t<li>1309</li>\n",
       "\t<li>9</li>\n",
       "</ol>\n"
      ],
      "text/latex": [
       "\\begin{enumerate*}\n",
       "\\item 1309\n",
       "\\item 9\n",
       "\\end{enumerate*}\n"
      ],
      "text/markdown": [
       "1. 1309\n",
       "2. 9\n",
       "\n",
       "\n"
      ],
      "text/plain": [
       "[1] 1309    9"
      ]
     },
     "metadata": {},
     "output_type": "display_data"
    }
   ],
   "source": [
    "dim(titanic)\n"
   ]
  },
  {
   "cell_type": "markdown",
   "metadata": {},
   "source": [
    "6) Realizar un attach de titanic"
   ]
  },
  {
   "cell_type": "code",
   "execution_count": 13,
   "metadata": {},
   "outputs": [],
   "source": [
    "attach(titanic)"
   ]
  },
  {
   "cell_type": "code",
   "execution_count": 15,
   "metadata": {},
   "outputs": [
    {
     "data": {
      "text/html": [
       "<ol class=list-inline>\n",
       "\t<li>'.GlobalEnv'</li>\n",
       "\t<li>'titanic'</li>\n",
       "\t<li>'titanic'</li>\n",
       "\t<li>'titanic'</li>\n",
       "\t<li>'jupyter:irkernel'</li>\n",
       "\t<li>'jupyter:irkernel'</li>\n",
       "\t<li>'package:stats'</li>\n",
       "\t<li>'package:graphics'</li>\n",
       "\t<li>'package:grDevices'</li>\n",
       "\t<li>'package:utils'</li>\n",
       "\t<li>'package:datasets'</li>\n",
       "\t<li>'package:methods'</li>\n",
       "\t<li>'Autoloads'</li>\n",
       "\t<li>'package:base'</li>\n",
       "</ol>\n"
      ],
      "text/latex": [
       "\\begin{enumerate*}\n",
       "\\item '.GlobalEnv'\n",
       "\\item 'titanic'\n",
       "\\item 'titanic'\n",
       "\\item 'titanic'\n",
       "\\item 'jupyter:irkernel'\n",
       "\\item 'jupyter:irkernel'\n",
       "\\item 'package:stats'\n",
       "\\item 'package:graphics'\n",
       "\\item 'package:grDevices'\n",
       "\\item 'package:utils'\n",
       "\\item 'package:datasets'\n",
       "\\item 'package:methods'\n",
       "\\item 'Autoloads'\n",
       "\\item 'package:base'\n",
       "\\end{enumerate*}\n"
      ],
      "text/markdown": [
       "1. '.GlobalEnv'\n",
       "2. 'titanic'\n",
       "3. 'titanic'\n",
       "4. 'titanic'\n",
       "5. 'jupyter:irkernel'\n",
       "6. 'jupyter:irkernel'\n",
       "7. 'package:stats'\n",
       "8. 'package:graphics'\n",
       "9. 'package:grDevices'\n",
       "10. 'package:utils'\n",
       "11. 'package:datasets'\n",
       "12. 'package:methods'\n",
       "13. 'Autoloads'\n",
       "14. 'package:base'\n",
       "\n",
       "\n"
      ],
      "text/plain": [
       " [1] \".GlobalEnv\"        \"titanic\"           \"titanic\"          \n",
       " [4] \"titanic\"           \"jupyter:irkernel\"  \"jupyter:irkernel\" \n",
       " [7] \"package:stats\"     \"package:graphics\"  \"package:grDevices\"\n",
       "[10] \"package:utils\"     \"package:datasets\"  \"package:methods\"  \n",
       "[13] \"Autoloads\"         \"package:base\"     "
      ]
     },
     "metadata": {},
     "output_type": "display_data"
    }
   ],
   "source": [
    "search()"
   ]
  },
  {
   "cell_type": "markdown",
   "metadata": {},
   "source": [
    "7)  Inspeccionar los nombres de las variables de titanic e identificar de qu ́e tipo de variable se trata\n",
    "cada una de ellas."
   ]
  },
  {
   "cell_type": "code",
   "execution_count": 17,
   "metadata": {},
   "outputs": [
    {
     "data": {
      "text/html": [
       "<ol class=list-inline>\n",
       "\t<li>'pclass'</li>\n",
       "\t<li>'survived'</li>\n",
       "\t<li>'sex'</li>\n",
       "\t<li>'age'</li>\n",
       "\t<li>'sibsp'</li>\n",
       "\t<li>'parch'</li>\n",
       "\t<li>'ticket'</li>\n",
       "\t<li>'fare'</li>\n",
       "\t<li>'embarked'</li>\n",
       "</ol>\n"
      ],
      "text/latex": [
       "\\begin{enumerate*}\n",
       "\\item 'pclass'\n",
       "\\item 'survived'\n",
       "\\item 'sex'\n",
       "\\item 'age'\n",
       "\\item 'sibsp'\n",
       "\\item 'parch'\n",
       "\\item 'ticket'\n",
       "\\item 'fare'\n",
       "\\item 'embarked'\n",
       "\\end{enumerate*}\n"
      ],
      "text/markdown": [
       "1. 'pclass'\n",
       "2. 'survived'\n",
       "3. 'sex'\n",
       "4. 'age'\n",
       "5. 'sibsp'\n",
       "6. 'parch'\n",
       "7. 'ticket'\n",
       "8. 'fare'\n",
       "9. 'embarked'\n",
       "\n",
       "\n"
      ],
      "text/plain": [
       "[1] \"pclass\"   \"survived\" \"sex\"      \"age\"      \"sibsp\"    \"parch\"    \"ticket\"  \n",
       "[8] \"fare\"     \"embarked\""
      ]
     },
     "metadata": {},
     "output_type": "display_data"
    },
    {
     "name": "stdout",
     "output_type": "stream",
     "text": [
      "'data.frame':\t1309 obs. of  9 variables:\n",
      " $ pclass  : num  1 1 1 1 1 1 1 1 1 1 ...\n",
      " $ survived: num  1 1 0 0 0 1 1 0 1 0 ...\n",
      " $ sex     : Factor w/ 2 levels \"female\",\"male\": 1 2 1 2 1 2 1 2 1 2 ...\n",
      " $ age     : Factor w/ 99 levels \"\",\"0,1667\",\"0,3333\",..: 39 8 23 41 33 67 86 55 73 94 ...\n",
      " $ sibsp   : num  0 1 1 1 1 0 1 0 2 0 ...\n",
      " $ parch   : num  0 2 2 2 2 0 0 0 0 0 ...\n",
      " $ ticket  : Factor w/ 929 levels \"110152\",\"110413\",..: 188 50 50 50 50 125 93 16 77 826 ...\n",
      " $ fare    : Factor w/ 282 levels \"\",\"0,0000\",\"10,1708\",..: 79 58 58 58 58 103 236 2 157 153 ...\n",
      " $ embarked: Factor w/ 4 levels \"\",\"C\",\"Q\",\"S\": 4 4 4 4 4 4 4 4 4 2 ...\n"
     ]
    }
   ],
   "source": [
    "names(titanic)\n",
    "str(titanic)"
   ]
  },
  {
   "cell_type": "markdown",
   "metadata": {},
   "source": [
    "8) Calcule la chance de sobrevivir siendo hombre. Calcule la chance de sobrevivir siendo mujer."
   ]
  },
  {
   "cell_type": "code",
   "execution_count": 20,
   "metadata": {},
   "outputs": [
    {
     "data": {
      "text/html": [
       "0.190984578884935"
      ],
      "text/latex": [
       "0.190984578884935"
      ],
      "text/markdown": [
       "0.190984578884935"
      ],
      "text/plain": [
       "[1] 0.1909846"
      ]
     },
     "metadata": {},
     "output_type": "display_data"
    },
    {
     "data": {
      "text/html": [
       "0.727467811158798"
      ],
      "text/latex": [
       "0.727467811158798"
      ],
      "text/markdown": [
       "0.727467811158798"
      ],
      "text/plain": [
       "[1] 0.7274678"
      ]
     },
     "metadata": {},
     "output_type": "display_data"
    }
   ],
   "source": [
    "hombres <- titanic[titanic$sex == \"male\", ]\n",
    "mujeres <- titanic[titanic$sex == \"female\", ]\n",
    "sum(hombres$survived == 1)/nrow(hombres)\n",
    "sum(mujeres$survived == 1)/nrow(mujeres)"
   ]
  },
  {
   "cell_type": "markdown",
   "metadata": {},
   "source": [
    "9) Cree que el tipo de ticket del pasajero (clase de cabina) esta asociado con su supervivencia?"
   ]
  },
  {
   "cell_type": "code",
   "execution_count": 31,
   "metadata": {},
   "outputs": [
    {
     "data": {
      "text/html": [
       "0.619195046439629"
      ],
      "text/latex": [
       "0.619195046439629"
      ],
      "text/markdown": [
       "0.619195046439629"
      ],
      "text/plain": [
       "[1] 0.619195"
      ]
     },
     "metadata": {},
     "output_type": "display_data"
    },
    {
     "data": {
      "text/html": [
       "0.368421052631579"
      ],
      "text/latex": [
       "0.368421052631579"
      ],
      "text/markdown": [
       "0.368421052631579"
      ],
      "text/plain": [
       "[1] 0.3684211"
      ]
     },
     "metadata": {},
     "output_type": "display_data"
    },
    {
     "data": {
      "text/html": [
       "0.560371517027864"
      ],
      "text/latex": [
       "0.560371517027864"
      ],
      "text/markdown": [
       "0.560371517027864"
      ],
      "text/plain": [
       "[1] 0.5603715"
      ]
     },
     "metadata": {},
     "output_type": "display_data"
    }
   ],
   "source": [
    "sum(titanic$survived[titanic$pclass == 1])/sum(titanic$pclass == 1)\n",
    "sum(titanic$survived[titanic$pclass == 2])/sum(titanic$pclass == 1)\n",
    "sum(titanic$survived[titanic$pclass == 3])/sum(titanic$pclass == 1)"
   ]
  },
  {
   "cell_type": "markdown",
   "metadata": {},
   "source": [
    "10)  Estudie la distribuci ́on de las tarifas. Que observa? Le parece razonable suponer que la variable\n",
    "tarifa  tenga  distribuci ́on  normal?  Calcule  la  media  y  la  mediana.  Puede  decidir  de  antemano\n",
    "qui ́en es mas grande si la media o la mediana?"
   ]
  },
  {
   "cell_type": "code",
   "execution_count": 59,
   "metadata": {},
   "outputs": [
    {
     "data": {
      "image/png": "[encoded data removed]",
      "text/plain": [
       "Plot with title “Histogram of titanic$fare”"
      ]
     },
     "metadata": {},
     "output_type": "display_data"
    }
   ],
   "source": [
    "hist(titanic$fare)\n",
    "#hist(as.numeric(gsub(\",\", \".\", as.character(titanic$fare))), breaks = 30)\n",
    "#mean(as.numeric(gsub(\",\", \".\", as.character(titanic$fare))), na.rm = T)\n",
    "#median(as.numeric(gsub(\",\", \".\", as.character(titanic$fare))), na.rm = T)\n"
   ]
  },
  {
   "cell_type": "markdown",
   "metadata": {},
   "source": [
    "11)  Estudie la relaci ́on entre tarifa y clase y entre edad y clase."
   ]
  },
  {
   "cell_type": "code",
   "execution_count": 62,
   "metadata": {},
   "outputs": [
    {
     "data": {
      "image/png": "[encoded data removed]",
      "text/plain": [
       "plot without title"
      ]
     },
     "metadata": {},
     "output_type": "display_data"
    }
   ],
   "source": [
    "par(mfrow=c(1,2))\n",
    "boxplot(titanic$fare ~ titanic$pclass)\n",
    "boxplot(titanic$age ~ titanic$pclass)\n"
   ]
  },
  {
   "cell_type": "markdown",
   "metadata": {},
   "source": [
    "12)  Respecto a la relaci ́on entre la edad y la tarifa podemos pensar que las personas m ́as j ́ovenes\n",
    "ten ́ıan menos dinero y por ende compraron los tiquetes m ́as baratos. Puede confirmar esto en\n",
    "base a los datos?"
   ]
  },
  {
   "cell_type": "code",
   "execution_count": 64,
   "metadata": {},
   "outputs": [
    {
     "data": {
      "image/png": "[encoded data removed]",
      "text/plain": [
       "plot without title"
      ]
     },
     "metadata": {},
     "output_type": "display_data"
    }
   ],
   "source": [
    "plot(titanic$age, titanic$fare)"
   ]
  },
  {
   "cell_type": "code",
   "execution_count": null,
   "metadata": {},
   "outputs": [],
   "source": []
  },
  {
   "cell_type": "code",
   "execution_count": null,
   "metadata": {},
   "outputs": [],
   "source": []
  },
  {
   "cell_type": "code",
   "execution_count": null,
   "metadata": {},
   "outputs": [],
   "source": []
  },
  {
   "cell_type": "code",
   "execution_count": null,
   "metadata": {},
   "outputs": [],
   "source": []
  },
  {
   "cell_type": "code",
   "execution_count": null,
   "metadata": {},
   "outputs": [],
   "source": []
  },
  {
   "cell_type": "code",
   "execution_count": null,
   "metadata": {},
   "outputs": [],
   "source": []
  },
  {
   "cell_type": "code",
   "execution_count": null,
   "metadata": {},
   "outputs": [],
   "source": []
  },
  {
   "cell_type": "code",
   "execution_count": null,
   "metadata": {},
   "outputs": [],
   "source": []
  },
  {
   "cell_type": "code",
   "execution_count": null,
   "metadata": {},
   "outputs": [],
   "source": []
  },
  {
   "cell_type": "code",
   "execution_count": null,
   "metadata": {},
   "outputs": [],
   "source": []
  }
 ],
 "metadata": {
  "kernelspec": {
   "display_name": "R",
   "language": "R",
   "name": "ir"
  },
  "language_info": {
   "codemirror_mode": "r",
   "file_extension": ".r",
   "mimetype": "text/x-r-source",
   "name": "R",
   "pygments_lexer": "r",
   "version": "3.3.1"
  }
 },
 "nbformat": 4,
 "nbformat_minor": 2
}
