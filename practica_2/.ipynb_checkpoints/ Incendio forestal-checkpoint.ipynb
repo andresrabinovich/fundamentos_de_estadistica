{
 "cells": [
  {
   "cell_type": "markdown",
   "metadata": {},
   "source": [
    "La idea es modelar la din ́amica de un bosque que se incendia.  Usaremos el modelo de\n",
    "incendio forestal propuesto por Back y col.  en 1990 y Drossel y Schwabl en 1992.\n",
    "Podemos representar un bosque con una grilla de N celdas en una dimensi ́on, numeradas del 1 al N.  Cada celda puede estar en tres estados posibles:  0 significa que est ́a vac ́ıa;  1 significa que hay un  ́arbol vivo;  y −1,  que hay un  ́arbol quemado.  Inicialmente todas las celdas del bosque est ́an vac ́ıas, luego suceden cuatro momentos o  ́epocas:\n",
    "\n",
    "1) Epoca primaveral o de brotes:\n",
    "con probabilidad p en cada celda vac ́ıa brota un ́arbol.\n",
    "\n",
    "2) Epoca de ca ́ıda de rayos:\n",
    "con probabilidad f caen rayos en el bosque y si hab ́ıa un  ́arbol donde cay ́o un rayo, este  ́arbol se quema (por lo que el bosque resultante tendr ́a lugares vac ́ıos,  ́arboles vivos y  ́arboles quemados).\n",
    "\n",
    "3) Epoca de incendios:\n",
    "se propaga el incendio todo lo posible.  Cada  ́arbol quemado propaga el fuego a los  ́arboles vecinos vivos inmediatos (el de la derecha y el de la izquierda).\n",
    "Nota:  la propagaci ́on termina cuando no queda ning ́un  ́arbol quemado que pueda propagar el fuego.\n",
    "\n",
    "4) Epoca de limpieza:\n",
    "se  tiran  abajo  los  ́arboles quemados  y esas  celdas pasan  a estar vac ́ıas nuevamente.\n",
    "Tras  la  limpieza,  se  cuenta  la  cantidad  de   ́arboles  que  sobreviven,  cerrandose  el  ciclo\n",
    "anual.   El  bosque  resultante  recomienza  el  proceso,  en  el  paso  1.\n",
    "\n",
    "\n"
   ]
  },
  {
   "cell_type": "markdown",
   "metadata": {},
   "source": [
    "1) Represente  el  estado  del  bosque  mediante  un  vector  denominado bosque de N ele-mentos (N= 10 por ejemplo), donde cada elemento representa una celda.  Llamemos\n",
    "bosque vac ́ıo a un bosque que s ́olo tenga celdas vac ́ıas, bosque limpio a un bosque que s ́olo tenga celdas vac ́ıas y  ́arboles vivos,\n",
    "bosque quemado a un bosque que tenga celdas vac ́ıas,  ́arboles vivos y  ́arboles quemados.  Genere un bosque de cada tipo."
   ]
  },
  {
   "cell_type": "code",
   "execution_count": 70,
   "metadata": {},
   "outputs": [
    {
     "data": {
      "text/html": [
       "<ol class=list-inline>\n",
       "\t<li>0</li>\n",
       "\t<li>0</li>\n",
       "\t<li>0</li>\n",
       "\t<li>0</li>\n",
       "\t<li>0</li>\n",
       "\t<li>0</li>\n",
       "\t<li>0</li>\n",
       "\t<li>0</li>\n",
       "\t<li>0</li>\n",
       "\t<li>0</li>\n",
       "</ol>\n"
      ],
      "text/latex": [
       "\\begin{enumerate*}\n",
       "\\item 0\n",
       "\\item 0\n",
       "\\item 0\n",
       "\\item 0\n",
       "\\item 0\n",
       "\\item 0\n",
       "\\item 0\n",
       "\\item 0\n",
       "\\item 0\n",
       "\\item 0\n",
       "\\end{enumerate*}\n"
      ],
      "text/markdown": [
       "1. 0\n",
       "2. 0\n",
       "3. 0\n",
       "4. 0\n",
       "5. 0\n",
       "6. 0\n",
       "7. 0\n",
       "8. 0\n",
       "9. 0\n",
       "10. 0\n",
       "\n",
       "\n"
      ],
      "text/plain": [
       " [1] 0 0 0 0 0 0 0 0 0 0"
      ]
     },
     "metadata": {},
     "output_type": "display_data"
    },
    {
     "data": {
      "text/html": [
       "<ol class=list-inline>\n",
       "\t<li>1</li>\n",
       "\t<li>1</li>\n",
       "\t<li>1</li>\n",
       "\t<li>0</li>\n",
       "\t<li>1</li>\n",
       "\t<li>1</li>\n",
       "\t<li>1</li>\n",
       "\t<li>0</li>\n",
       "\t<li>1</li>\n",
       "\t<li>0</li>\n",
       "</ol>\n"
      ],
      "text/latex": [
       "\\begin{enumerate*}\n",
       "\\item 1\n",
       "\\item 1\n",
       "\\item 1\n",
       "\\item 0\n",
       "\\item 1\n",
       "\\item 1\n",
       "\\item 1\n",
       "\\item 0\n",
       "\\item 1\n",
       "\\item 0\n",
       "\\end{enumerate*}\n"
      ],
      "text/markdown": [
       "1. 1\n",
       "2. 1\n",
       "3. 1\n",
       "4. 0\n",
       "5. 1\n",
       "6. 1\n",
       "7. 1\n",
       "8. 0\n",
       "9. 1\n",
       "10. 0\n",
       "\n",
       "\n"
      ],
      "text/plain": [
       " [1] 1 1 1 0 1 1 1 0 1 0"
      ]
     },
     "metadata": {},
     "output_type": "display_data"
    },
    {
     "data": {
      "text/html": [
       "<ol class=list-inline>\n",
       "\t<li>1</li>\n",
       "\t<li>0</li>\n",
       "\t<li>0</li>\n",
       "\t<li>0</li>\n",
       "\t<li>0</li>\n",
       "\t<li>0</li>\n",
       "\t<li>0</li>\n",
       "\t<li>1</li>\n",
       "\t<li>-1</li>\n",
       "\t<li>1</li>\n",
       "</ol>\n"
      ],
      "text/latex": [
       "\\begin{enumerate*}\n",
       "\\item 1\n",
       "\\item 0\n",
       "\\item 0\n",
       "\\item 0\n",
       "\\item 0\n",
       "\\item 0\n",
       "\\item 0\n",
       "\\item 1\n",
       "\\item -1\n",
       "\\item 1\n",
       "\\end{enumerate*}\n"
      ],
      "text/markdown": [
       "1. 1\n",
       "2. 0\n",
       "3. 0\n",
       "4. 0\n",
       "5. 0\n",
       "6. 0\n",
       "7. 0\n",
       "8. 1\n",
       "9. -1\n",
       "10. 1\n",
       "\n",
       "\n"
      ],
      "text/plain": [
       " [1]  1  0  0  0  0  0  0  1 -1  1"
      ]
     },
     "metadata": {},
     "output_type": "display_data"
    }
   ],
   "source": [
    "N = 10\n",
    "bosque_vacio <- function(N){\n",
    "    return(rep(0, N))\n",
    "}\n",
    "bosque_limpio <- function(N){\n",
    "    return(sample(c(0, 1), N, replace = TRUE))\n",
    "}\n",
    "bosque_quemado <- function(N){\n",
    "    return(sample(c(0, 1, -1), N, replace = TRUE))\n",
    "}\n",
    "bosque_vacio(N)\n",
    "bosque_limpio(N)\n",
    "bosque_quemado(N)\n"
   ]
  },
  {
   "cell_type": "markdown",
   "metadata": {},
   "source": [
    "2) Construya la funci ́on cuantos (bosque,tipoarbol) que devuelve la cantidad de celdas que  hay  en  el  bosque  pertenecientes  a  la  categor ́ıa  ”tipoarbol”.   Por  ejemplo cuan-\n",
    "tos (bosque,1) devuelve la cantidad de  ́arboles vivos, cuantos (bosque,-1) devuelve la cantidad de  ́arboles quemados y cuantos\n",
    "(bosque,0), la cantidad de celdas vac ́ıas.\n"
   ]
  },
  {
   "cell_type": "code",
   "execution_count": 23,
   "metadata": {},
   "outputs": [],
   "source": [
    "cuantos <- function(bosque, tipoarbol){\n",
    "    cuantos_tipoarbol <- table(bosque)[as.character(tipoarbol)]\n",
    "    ifelse(is.na(cuantos_tipoarbol), return (0), return (as.numeric(cuantos_tipoarbol)))\n",
    "}"
   ]
  },
  {
   "cell_type": "code",
   "execution_count": 71,
   "metadata": {},
   "outputs": [
    {
     "data": {
      "text/html": [
       "3"
      ],
      "text/latex": [
       "3"
      ],
      "text/markdown": [
       "3"
      ],
      "text/plain": [
       "[1] 3"
      ]
     },
     "metadata": {},
     "output_type": "display_data"
    }
   ],
   "source": [
    "cuantos(bosque_quemado(N), -1)"
   ]
  },
  {
   "cell_type": "markdown",
   "metadata": {},
   "source": [
    "3) Implemente la funci ́on brotes (bosque, p) que a partir del estado de un bosque y de un valor real p genere un  ́arbol en cada celda vac ́ıa con probabilidad p\n",
    "y devuelva el nuevo bosque.  Corra la funci ́on brotes empezando con un bosque vac ́ıo de N= 10 celdas y probabilidad\n",
    "p = 0.6.  \n",
    "¿Cu ́antos  ́arboles brotaron en total?  Si corre nuevamente la funci ́on sobre el mismo bosque inicial, ¿cu ́antos  ́arboles brotaron?  Repita con\n",
    "N\n",
    "= 100.\n",
    "Pruebe correr la funci ́on con un bosque limpio y con uno vac ́ıo"
   ]
  },
  {
   "cell_type": "code",
   "execution_count": 36,
   "metadata": {},
   "outputs": [],
   "source": [
    "brotes <- function(bosque, p){\n",
    "    celda_vacia = which(bosque == 0)\n",
    "    bosque[celda_vacia] <- sample(c(0, 1), replace = TRUE, p=c((1-p), p), length(celda_vacia))\n",
    "    return(bosque)\n",
    "}"
   ]
  },
  {
   "cell_type": "code",
   "execution_count": 78,
   "metadata": {},
   "outputs": [
    {
     "data": {
      "text/html": [
       "60.2"
      ],
      "text/latex": [
       "60.2"
      ],
      "text/markdown": [
       "60.2"
      ],
      "text/plain": [
       "[1] 60.2"
      ]
     },
     "metadata": {},
     "output_type": "display_data"
    },
    {
     "data": {
      "text/html": [
       "79.738"
      ],
      "text/latex": [
       "79.738"
      ],
      "text/markdown": [
       "79.738"
      ],
      "text/plain": [
       "[1] 79.738"
      ]
     },
     "metadata": {},
     "output_type": "display_data"
    }
   ],
   "source": [
    "N = 100\n",
    "\n",
    "bosques_brotados <- t(replicate(1000, brotes(bosque_vacio(N), 0.6)))\n",
    "mean(apply(bosques_brotados, 1, function(x) { return(cuantos(x, 1))}))\n",
    "\n",
    "bosques_brotados <- t(replicate(1000, brotes(bosque_limpio(N), 0.6)))\n",
    "mean(apply(bosques_brotados, 1, function(x) { return(cuantos(x, 1))}))\n",
    "\n"
   ]
  },
  {
   "cell_type": "markdown",
   "metadata": {},
   "source": [
    "4)  Implemente la funci ́on\n",
    "rayos\n",
    "(bosque, f) que a partir de un bosque simula la ca ́ıda de\n",
    "rayos con probabilidad\n",
    "f\n",
    "y devuelve el nuevo bosque.  Suponga que en cada celda hay\n",
    "una probabilidad\n",
    "f\n",
    "de que caiga un rayo, si en la celda hab ́ıa un  ́arbol y cay ́o un rayo,\n",
    "entonces el  ́arbol se quema (la celda pasa del estado 1 al estado -1), si la celda estaba\n",
    "vac ́ıa y cay ́o un rayo, no pasa nada (sigue en estado 0).  Pruebe correr la funci ́on con\n",
    "diferentes bosques con\n",
    "N\n",
    "= 10 celdas (por ejemplo un bosque completamente lleno de\n",
    " ́arboles y un bosque limpio que tenga la mitad de las celdas ocupadas por  ́arboles).\n",
    "¿Qu ́e fracci ́on de  ́arboles resultan quemados?"
   ]
  },
  {
   "cell_type": "code",
   "execution_count": 80,
   "metadata": {},
   "outputs": [],
   "source": [
    "rayos <- function(bosque, f){\n",
    "    celda_con_arbol = which(bosque == 1)\n",
    "    bosque[celda_con_arbol] <- sample(c(1, -1), replace = TRUE, p=c((1-f), f), length(celda_con_arbol))\n",
    "    return(bosque)\n",
    "}\n"
   ]
  },
  {
   "cell_type": "code",
   "execution_count": 91,
   "metadata": {},
   "outputs": [
    {
     "data": {
      "text/html": [
       "0"
      ],
      "text/latex": [
       "0"
      ],
      "text/markdown": [
       "0"
      ],
      "text/plain": [
       "[1] 0"
      ]
     },
     "metadata": {},
     "output_type": "display_data"
    },
    {
     "data": {
      "text/html": [
       "2"
      ],
      "text/latex": [
       "2"
      ],
      "text/markdown": [
       "2"
      ],
      "text/plain": [
       "[1] 2"
      ]
     },
     "metadata": {},
     "output_type": "display_data"
    },
    {
     "data": {
      "text/html": [
       "7"
      ],
      "text/latex": [
       "7"
      ],
      "text/markdown": [
       "7"
      ],
      "text/plain": [
       "[1] 7"
      ]
     },
     "metadata": {},
     "output_type": "display_data"
    }
   ],
   "source": [
    "f = 0.5\n",
    "bosque = bosque_vacio(10)\n",
    "cuantos(rayos(bosque, f), -1)\n",
    "\n",
    "bosque = bosque_limpio(10)\n",
    "cuantos(rayos(bosque, f), -1)\n",
    "\n",
    "bosque = rep(1, 10)\n",
    "cuantos(rayos(bosque, f), -1)"
   ]
  },
  {
   "cell_type": "markdown",
   "metadata": {},
   "source": [
    "5)  Implemente  la  funci ́on\n",
    "propagacion\n",
    "(bosque)  que  recibe  un  bosque  quemado  y  de-\n",
    "vuelve el nuevo bosque luego de la propagaci ́on total del fuego (es decir, devuelve un\n",
    "bosque  quemado  para  el  que  no  puede  ocurrir  que  un   ́arbol  vivo  tenga  alg ́un   ́arbol\n",
    "vecino quemado).  Pruebe correrla para los siguientes bosques:\n",
    "•\n",
    "bosque\n",
    "1=(1,1,1,-1,0,0,0,-1,1,0)\n",
    "•\n",
    "bosque\n",
    "2=(-1,1,1,-1,1,1,0,0,-1,1)"
   ]
  },
  {
   "cell_type": "code",
   "execution_count": 119,
   "metadata": {
    "scrolled": true
   },
   "outputs": [],
   "source": [
    "propagacion <- function(bosque){\n",
    "    \n",
    "    propagacion_terminada = FALSE\n",
    "    \n",
    "    while(propagacion_terminada == FALSE){\n",
    "        celda_quemada = which(bosque == -1)\n",
    "\n",
    "        #Buscamos los vecinos de las celdas quemadas\n",
    "        vecinos <- c(celda_quemada + 1, celda_quemada - 1)\n",
    "\n",
    "        #Sacamos los vecinos que sean celdas quemadas y vecinos por fuera del bosque\n",
    "        vecinos <- setdiff(vecinos, c(0, celda_quemada, (length(bosque)+1)))\n",
    "\n",
    "        #Nos quedamos solamente con aquellos vecinos que tengan un arbol\n",
    "        vecinos = intersect(which(bosque == 1), vecinos)\n",
    "        \n",
    "        if(length(vecinos) > 0){\n",
    "            propagacion_terminada = FALSE\n",
    "            bosque[vecinos] <- -1\n",
    "        }else{\n",
    "            propagacion_terminada = TRUE\n",
    "        }\n",
    "    }\n",
    "    return(bosque)\n",
    "}\n"
   ]
  },
  {
   "cell_type": "code",
   "execution_count": 122,
   "metadata": {},
   "outputs": [
    {
     "data": {
      "text/html": [
       "<ol class=list-inline>\n",
       "\t<li>-1</li>\n",
       "\t<li>-1</li>\n",
       "\t<li>-1</li>\n",
       "\t<li>-1</li>\n",
       "\t<li>0</li>\n",
       "\t<li>0</li>\n",
       "\t<li>0</li>\n",
       "\t<li>-1</li>\n",
       "\t<li>-1</li>\n",
       "\t<li>0</li>\n",
       "</ol>\n"
      ],
      "text/latex": [
       "\\begin{enumerate*}\n",
       "\\item -1\n",
       "\\item -1\n",
       "\\item -1\n",
       "\\item -1\n",
       "\\item 0\n",
       "\\item 0\n",
       "\\item 0\n",
       "\\item -1\n",
       "\\item -1\n",
       "\\item 0\n",
       "\\end{enumerate*}\n"
      ],
      "text/markdown": [
       "1. -1\n",
       "2. -1\n",
       "3. -1\n",
       "4. -1\n",
       "5. 0\n",
       "6. 0\n",
       "7. 0\n",
       "8. -1\n",
       "9. -1\n",
       "10. 0\n",
       "\n",
       "\n"
      ],
      "text/plain": [
       " [1] -1 -1 -1 -1  0  0  0 -1 -1  0"
      ]
     },
     "metadata": {},
     "output_type": "display_data"
    },
    {
     "data": {
      "text/html": [
       "<ol class=list-inline>\n",
       "\t<li>-1</li>\n",
       "\t<li>-1</li>\n",
       "\t<li>-1</li>\n",
       "\t<li>-1</li>\n",
       "\t<li>-1</li>\n",
       "\t<li>-1</li>\n",
       "\t<li>0</li>\n",
       "\t<li>0</li>\n",
       "\t<li>-1</li>\n",
       "\t<li>-1</li>\n",
       "</ol>\n"
      ],
      "text/latex": [
       "\\begin{enumerate*}\n",
       "\\item -1\n",
       "\\item -1\n",
       "\\item -1\n",
       "\\item -1\n",
       "\\item -1\n",
       "\\item -1\n",
       "\\item 0\n",
       "\\item 0\n",
       "\\item -1\n",
       "\\item -1\n",
       "\\end{enumerate*}\n"
      ],
      "text/markdown": [
       "1. -1\n",
       "2. -1\n",
       "3. -1\n",
       "4. -1\n",
       "5. -1\n",
       "6. -1\n",
       "7. 0\n",
       "8. 0\n",
       "9. -1\n",
       "10. -1\n",
       "\n",
       "\n"
      ],
      "text/plain": [
       " [1] -1 -1 -1 -1 -1 -1  0  0 -1 -1"
      ]
     },
     "metadata": {},
     "output_type": "display_data"
    }
   ],
   "source": [
    "bosque_1=c(1,1,1,-1,0,0,0,-1,1,0)\n",
    "propagacion(bosque_1)\n",
    "\n",
    "bosque_2=c(-1,1,1,-1,1,1,0,0,-1,1)\n",
    "propagacion(bosque_2)"
   ]
  },
  {
   "cell_type": "markdown",
   "metadata": {},
   "source": [
    "6) Implemente la funci ́on\n",
    "limpieza\n",
    "(bosque) que recibe el estado de un bosque y devuelve\n",
    "el mismo bosque que se obtiene despu ́es de reemplazar los  ́arboles quemados por celdas\n",
    "vac ́ıas."
   ]
  },
  {
   "cell_type": "code",
   "execution_count": 123,
   "metadata": {},
   "outputs": [],
   "source": [
    "limpieza <- function(bosque){\n",
    "    bosque[bosque == -1] <- 0\n",
    "    return(bosque)\n",
    "}"
   ]
  },
  {
   "cell_type": "code",
   "execution_count": 125,
   "metadata": {},
   "outputs": [
    {
     "data": {
      "text/html": [
       "<ol class=list-inline>\n",
       "\t<li>1</li>\n",
       "\t<li>1</li>\n",
       "\t<li>1</li>\n",
       "\t<li>-1</li>\n",
       "\t<li>0</li>\n",
       "\t<li>1</li>\n",
       "\t<li>0</li>\n",
       "\t<li>-1</li>\n",
       "\t<li>1</li>\n",
       "\t<li>0</li>\n",
       "</ol>\n"
      ],
      "text/latex": [
       "\\begin{enumerate*}\n",
       "\\item 1\n",
       "\\item 1\n",
       "\\item 1\n",
       "\\item -1\n",
       "\\item 0\n",
       "\\item 1\n",
       "\\item 0\n",
       "\\item -1\n",
       "\\item 1\n",
       "\\item 0\n",
       "\\end{enumerate*}\n"
      ],
      "text/markdown": [
       "1. 1\n",
       "2. 1\n",
       "3. 1\n",
       "4. -1\n",
       "5. 0\n",
       "6. 1\n",
       "7. 0\n",
       "8. -1\n",
       "9. 1\n",
       "10. 0\n",
       "\n",
       "\n"
      ],
      "text/plain": [
       " [1]  1  1  1 -1  0  1  0 -1  1  0"
      ]
     },
     "metadata": {},
     "output_type": "display_data"
    },
    {
     "data": {
      "text/html": [
       "<ol class=list-inline>\n",
       "\t<li>-1</li>\n",
       "\t<li>-1</li>\n",
       "\t<li>-1</li>\n",
       "\t<li>-1</li>\n",
       "\t<li>0</li>\n",
       "\t<li>1</li>\n",
       "\t<li>0</li>\n",
       "\t<li>-1</li>\n",
       "\t<li>-1</li>\n",
       "\t<li>0</li>\n",
       "</ol>\n"
      ],
      "text/latex": [
       "\\begin{enumerate*}\n",
       "\\item -1\n",
       "\\item -1\n",
       "\\item -1\n",
       "\\item -1\n",
       "\\item 0\n",
       "\\item 1\n",
       "\\item 0\n",
       "\\item -1\n",
       "\\item -1\n",
       "\\item 0\n",
       "\\end{enumerate*}\n"
      ],
      "text/markdown": [
       "1. -1\n",
       "2. -1\n",
       "3. -1\n",
       "4. -1\n",
       "5. 0\n",
       "6. 1\n",
       "7. 0\n",
       "8. -1\n",
       "9. -1\n",
       "10. 0\n",
       "\n",
       "\n"
      ],
      "text/plain": [
       " [1] -1 -1 -1 -1  0  1  0 -1 -1  0"
      ]
     },
     "metadata": {},
     "output_type": "display_data"
    },
    {
     "data": {
      "text/html": [
       "<ol class=list-inline>\n",
       "\t<li>0</li>\n",
       "\t<li>0</li>\n",
       "\t<li>0</li>\n",
       "\t<li>0</li>\n",
       "\t<li>0</li>\n",
       "\t<li>1</li>\n",
       "\t<li>0</li>\n",
       "\t<li>0</li>\n",
       "\t<li>0</li>\n",
       "\t<li>0</li>\n",
       "</ol>\n"
      ],
      "text/latex": [
       "\\begin{enumerate*}\n",
       "\\item 0\n",
       "\\item 0\n",
       "\\item 0\n",
       "\\item 0\n",
       "\\item 0\n",
       "\\item 1\n",
       "\\item 0\n",
       "\\item 0\n",
       "\\item 0\n",
       "\\item 0\n",
       "\\end{enumerate*}\n"
      ],
      "text/markdown": [
       "1. 0\n",
       "2. 0\n",
       "3. 0\n",
       "4. 0\n",
       "5. 0\n",
       "6. 1\n",
       "7. 0\n",
       "8. 0\n",
       "9. 0\n",
       "10. 0\n",
       "\n",
       "\n"
      ],
      "text/plain": [
       " [1] 0 0 0 0 0 1 0 0 0 0"
      ]
     },
     "metadata": {},
     "output_type": "display_data"
    }
   ],
   "source": [
    "bosque <- c(1,1,1,-1,0,1,0,-1,1,0)\n",
    "bosque\n",
    "vbosque_quemado <- propagacion(bosque)\n",
    "vbosque_quemado\n",
    "vbosque_limpio <- limpieza(vbosque_quemado)\n",
    "vbosque_limpio"
   ]
  },
  {
   "cell_type": "markdown",
   "metadata": {},
   "source": [
    "7)  Implemente  el  programa  de  incendio  forestal,  para  un\n",
    "p\n",
    "y\n",
    "f\n",
    "fijos,  repitiendo  varias\n",
    "veces (\n",
    "N rep\n",
    "= 50) la din ́amica anual del bosque, y calcule la cantidad de  ́arboles que\n",
    "sobreviven (la producci ́on) en promedio sobre todos los pasos de tiempo.  Es decir,\n",
    "•\n",
    "Genere un bosque vac ́ıo de\n",
    "N\n",
    "= 100 celdas.\n",
    "•\n",
    "En cada paso de tiempo\n",
    "t\n",
    "desde 1 hasta\n",
    "N rep\n",
    "implemente la din ́amica del bosque:\n",
    "•\n",
    "1)\n",
    "Primavera:\n",
    "haga brotar  ́arboles con probabilidad\n",
    "p\n",
    "en el bosque, obtenga un\n",
    "bosque limpio.\n",
    "•\n",
    "2)\n",
    "Rayos:\n",
    "simule que caen rayos con probabilidad\n",
    "f\n",
    "sobre un bosque limpio (si\n",
    "la  celda  donde  cay ́o  un  rayo  estaba  ocupada  por  un   ́arbol,  el   ́arbol  se  quema),\n",
    "obteniendo un bosque quemado.\n",
    "•\n",
    "3)\n",
    "Propagaci ́on incendio:\n",
    "simule la propagaci ́on del fuego a partir del bosque\n",
    "quemado que resulta de 2), obteniendo un bosque quemado en su m ́aximo alcance.\n",
    "4)\n",
    "Limpieza:\n",
    "los  ́arboles quemados pasan a estar vac ́ıos (las celdas en estado -1\n",
    "vuelven al estado 0), obteniendo un bosque limpio nuevamente.\n",
    "•\n",
    "Cuente y registre la cantidad de  ́arboles que sobreviven en el bosque obtenido y\n",
    "vuelva a 1) con el bosque actual."
   ]
  },
  {
   "cell_type": "code",
   "execution_count": 142,
   "metadata": {},
   "outputs": [],
   "source": [
    "incendio_forestal <- function(bosque, p, f){\n",
    "    bosque <- brotes(bosque, p)\n",
    "    bosque <- rayos(bosque, f)\n",
    "    bosque <- propagacion(bosque)\n",
    "    bosque <- limpieza(bosque)\n",
    "    return(bosque)\n",
    "}"
   ]
  },
  {
   "cell_type": "markdown",
   "metadata": {},
   "source": [
    "8)  Con los valores registrados, calcule la producci ́on media forstal tras\n",
    "N rep\n",
    "= 50 ciclos,\n",
    "considerando\n",
    "p\n",
    "= 0\n",
    ".\n",
    "8,\n",
    "f\n",
    "= 0\n",
    ".\n",
    "2 y\n",
    "N\n",
    "= 100 celdas."
   ]
  },
  {
   "cell_type": "code",
   "execution_count": 150,
   "metadata": {},
   "outputs": [
    {
     "data": {
      "text/html": [
       "<ol class=list-inline>\n",
       "\t<li>14</li>\n",
       "\t<li>27</li>\n",
       "\t<li>3</li>\n",
       "\t<li>16</li>\n",
       "\t<li>29</li>\n",
       "\t<li>2</li>\n",
       "\t<li>20</li>\n",
       "\t<li>9</li>\n",
       "\t<li>19</li>\n",
       "\t<li>7</li>\n",
       "\t<li>14</li>\n",
       "\t<li>31</li>\n",
       "\t<li>24</li>\n",
       "\t<li>22</li>\n",
       "\t<li>5</li>\n",
       "\t<li>40</li>\n",
       "\t<li>6</li>\n",
       "\t<li>43</li>\n",
       "\t<li>2</li>\n",
       "\t<li>6</li>\n",
       "\t<li>19</li>\n",
       "\t<li>20</li>\n",
       "\t<li>17</li>\n",
       "\t<li>23</li>\n",
       "\t<li>24</li>\n",
       "\t<li>19</li>\n",
       "\t<li>12</li>\n",
       "\t<li>16</li>\n",
       "\t<li>10</li>\n",
       "\t<li>18</li>\n",
       "\t<li>1</li>\n",
       "\t<li>23</li>\n",
       "\t<li>5</li>\n",
       "\t<li>10</li>\n",
       "\t<li>5</li>\n",
       "\t<li>32</li>\n",
       "\t<li>21</li>\n",
       "\t<li>9</li>\n",
       "\t<li>14</li>\n",
       "\t<li>25</li>\n",
       "\t<li>9</li>\n",
       "\t<li>30</li>\n",
       "\t<li>11</li>\n",
       "\t<li>22</li>\n",
       "\t<li>16</li>\n",
       "\t<li>21</li>\n",
       "\t<li>28</li>\n",
       "\t<li>35</li>\n",
       "\t<li>3</li>\n",
       "\t<li>20</li>\n",
       "</ol>\n"
      ],
      "text/latex": [
       "\\begin{enumerate*}\n",
       "\\item 14\n",
       "\\item 27\n",
       "\\item 3\n",
       "\\item 16\n",
       "\\item 29\n",
       "\\item 2\n",
       "\\item 20\n",
       "\\item 9\n",
       "\\item 19\n",
       "\\item 7\n",
       "\\item 14\n",
       "\\item 31\n",
       "\\item 24\n",
       "\\item 22\n",
       "\\item 5\n",
       "\\item 40\n",
       "\\item 6\n",
       "\\item 43\n",
       "\\item 2\n",
       "\\item 6\n",
       "\\item 19\n",
       "\\item 20\n",
       "\\item 17\n",
       "\\item 23\n",
       "\\item 24\n",
       "\\item 19\n",
       "\\item 12\n",
       "\\item 16\n",
       "\\item 10\n",
       "\\item 18\n",
       "\\item 1\n",
       "\\item 23\n",
       "\\item 5\n",
       "\\item 10\n",
       "\\item 5\n",
       "\\item 32\n",
       "\\item 21\n",
       "\\item 9\n",
       "\\item 14\n",
       "\\item 25\n",
       "\\item 9\n",
       "\\item 30\n",
       "\\item 11\n",
       "\\item 22\n",
       "\\item 16\n",
       "\\item 21\n",
       "\\item 28\n",
       "\\item 35\n",
       "\\item 3\n",
       "\\item 20\n",
       "\\end{enumerate*}\n"
      ],
      "text/markdown": [
       "1. 14\n",
       "2. 27\n",
       "3. 3\n",
       "4. 16\n",
       "5. 29\n",
       "6. 2\n",
       "7. 20\n",
       "8. 9\n",
       "9. 19\n",
       "10. 7\n",
       "11. 14\n",
       "12. 31\n",
       "13. 24\n",
       "14. 22\n",
       "15. 5\n",
       "16. 40\n",
       "17. 6\n",
       "18. 43\n",
       "19. 2\n",
       "20. 6\n",
       "21. 19\n",
       "22. 20\n",
       "23. 17\n",
       "24. 23\n",
       "25. 24\n",
       "26. 19\n",
       "27. 12\n",
       "28. 16\n",
       "29. 10\n",
       "30. 18\n",
       "31. 1\n",
       "32. 23\n",
       "33. 5\n",
       "34. 10\n",
       "35. 5\n",
       "36. 32\n",
       "37. 21\n",
       "38. 9\n",
       "39. 14\n",
       "40. 25\n",
       "41. 9\n",
       "42. 30\n",
       "43. 11\n",
       "44. 22\n",
       "45. 16\n",
       "46. 21\n",
       "47. 28\n",
       "48. 35\n",
       "49. 3\n",
       "50. 20\n",
       "\n",
       "\n"
      ],
      "text/plain": [
       " [1] 14 27  3 16 29  2 20  9 19  7 14 31 24 22  5 40  6 43  2  6 19 20 17 23 24\n",
       "[26] 19 12 16 10 18  1 23  5 10  5 32 21  9 14 25  9 30 11 22 16 21 28 35  3 20"
      ]
     },
     "metadata": {},
     "output_type": "display_data"
    }
   ],
   "source": [
    "N_rep  <- 50\n",
    "N      <- 100\n",
    "p      <- 0.8\n",
    "f      <- 0.2\n",
    "bosque <- bosque_vacio(N)\n",
    "arboles_sobrevivientes <- rep(0, N_rep)\n",
    "for(n in 1:N_rep){\n",
    "    bosque <- incendio_forestal(bosque, p, f)\n",
    "    arboles_sobrevivientes[n] <- cuantos(bosque, 1)\n",
    "}\n",
    "arboles_sobrevivientes"
   ]
  },
  {
   "cell_type": "markdown",
   "metadata": {},
   "source": [
    "9)  Implemente  una  funci ́on  cosechaPromedio(p,  N,  Nrep)  que,  utilizando\n",
    "N rep\n",
    "ciclos,\n",
    "f\n",
    "=  0\n",
    ".\n",
    "2  y\n",
    "N\n",
    "celdas,  devuelva  la  producci ́on  media  forestal  a  lo  largo  de  los\n",
    "N rep\n",
    "ciclos, cuando la probabilidad de brote es\n",
    "p\n",
    "."
   ]
  },
  {
   "cell_type": "code",
   "execution_count": 152,
   "metadata": {},
   "outputs": [],
   "source": [
    "cosechaPromedio <- function(p, N,  N_rep, f = 0.2){\n",
    "    bosque <- bosque_vacio(N)\n",
    "    arboles_sobrevivientes <- rep(0, N_rep)\n",
    "    for(n in 1:N_rep){\n",
    "        bosque <- incendio_forestal(bosque, p, f)\n",
    "        arboles_sobrevivientes[n] <- cuantos(bosque, 1)\n",
    "    }\n",
    "    return(mean(arboles_sobrevivientes))\n",
    "}"
   ]
  },
  {
   "cell_type": "code",
   "execution_count": 153,
   "metadata": {},
   "outputs": [
    {
     "data": {
      "text/html": [
       "16.42"
      ],
      "text/latex": [
       "16.42"
      ],
      "text/markdown": [
       "16.42"
      ],
      "text/plain": [
       "[1] 16.42"
      ]
     },
     "metadata": {},
     "output_type": "display_data"
    }
   ],
   "source": [
    "N_rep  <- 50\n",
    "N      <- 100\n",
    "p      <- 0.8\n",
    "f      <- 0.2\n",
    "cosechaPromedio(p, N, N_rep, f)"
   ]
  },
  {
   "cell_type": "markdown",
   "metadata": {},
   "source": [
    "10) \n",
    "p\n",
    " ́optimo para\n",
    "f\n",
    "= 0\n",
    ".\n",
    "2 Utilice la funci ́on cosechaPromedio(p, N, Nrep) para\n",
    "N\n",
    "= 100,\n",
    "N rep\n",
    "= 1000 y diferentes valores de\n",
    "p\n",
    ", variando\n",
    "p\n",
    "de 0 a 1, a lo largo de una grilla de\n",
    "paso 0.01.  Para cada valor de\n",
    "p\n",
    ", registre la producci ́on media.  Grafique\n",
    "p\n",
    "(eje x) vs.\n",
    "producci ́on media (eje y).  e indique para que valor de\n",
    "p\n",
    "se maximiza la producci ́on\n",
    "media."
   ]
  },
  {
   "cell_type": "code",
   "execution_count": 158,
   "metadata": {},
   "outputs": [
    {
     "data": {
      "image/png": "[encoded data removed]",
      "text/plain": [
       "plot without title"
      ]
     },
     "metadata": {},
     "output_type": "display_data"
    }
   ],
   "source": [
    "N_rep  <- 1000\n",
    "N      <- 100\n",
    "ps     <- seq(from = 0, to = 1, by = 0.01)\n",
    "f      <- 0.2\n",
    "produccion_media <- rep(0, length(p))\n",
    "i = 1\n",
    "for(p in ps){\n",
    "    produccion_media[i] <- cosechaPromedio(p, N, N_rep, f)\n",
    "    i = i + 1 \n",
    "}\n",
    "save(ps, produccion_media, file=\"corridas/p_vs_produccion_media_f02_N100_Nrep1000\")\n",
    "plot(ps, produccion_media)"
   ]
  },
  {
   "cell_type": "code",
   "execution_count": 165,
   "metadata": {},
   "outputs": [
    {
     "data": {
      "image/png": "[encoded data removed]",
      "text/plain": [
       "Plot with title “Bosque con incendio forestal”"
      ]
     },
     "metadata": {},
     "output_type": "display_data"
    }
   ],
   "source": [
    "plot(ps, produccion_media, xlab=\"p\", ylab=\"Producción media\", main=\"Bosque con incendio forestal\")\n",
    "maxima_produccion <- which.max(produccion_media)\n",
    "points(ps[maxima_produccion], produccion_media[maxima_produccion], col=\"red\", pch = 16)\n",
    "abline(v=ps[maxima_produccion], col=\"red\")\n",
    "abline(h=produccion_media[maxima_produccion], col=\"red\")"
   ]
  }
 ],
 "metadata": {
  "kernelspec": {
   "display_name": "R",
   "language": "R",
   "name": "ir"
  },
  "language_info": {
   "codemirror_mode": "r",
   "file_extension": ".r",
   "mimetype": "text/x-r-source",
   "name": "R",
   "pygments_lexer": "r",
   "version": "3.3.1"
  }
 },
 "nbformat": 4,
 "nbformat_minor": 2
}
